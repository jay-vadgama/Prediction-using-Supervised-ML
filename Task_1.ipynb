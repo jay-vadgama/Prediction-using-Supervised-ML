{
 "cells": [
  {
   "cell_type": "markdown",
   "metadata": {
    "papermill": {
     "duration": 0.013836,
     "end_time": "2020-11-05T08:44:22.884783",
     "exception": false,
     "start_time": "2020-11-05T08:44:22.870947",
     "status": "completed"
    },
    "tags": []
   },
   "source": [
    "# **Jay Vadgama**"
   ]
  },
  {
   "cell_type": "markdown",
   "metadata": {
    "papermill": {
     "duration": 0.010359,
     "end_time": "2020-11-05T08:44:22.905958",
     "exception": false,
     "start_time": "2020-11-05T08:44:22.895599",
     "status": "completed"
    },
    "tags": []
   },
   "source": [
    "# **Linear Regression with Python Scikit Learn**\n",
    "*In this section we will see how the Python Scikit-Learn library for machine learning can be used to implement regression functions. We will start with simple linear regression involving two variables.*\n",
    "# Simple Linear Regression\n",
    "*In this regression task we will predict the percentage of marks that a student is expected to score based upon the number of hours they studied. This is a simple linear regression task as it involves just two variables.*"
   ]
  },
  {
   "cell_type": "markdown",
   "metadata": {
    "papermill": {
     "duration": 0.010144,
     "end_time": "2020-11-05T08:44:22.926684",
     "exception": false,
     "start_time": "2020-11-05T08:44:22.916540",
     "status": "completed"
    },
    "tags": []
   },
   "source": [
    "# 1.Importing basic Libraries."
   ]
  },
  {
   "cell_type": "code",
   "execution_count": 1,
   "metadata": {
    "_cell_guid": "79c7e3d0-c299-4dcb-8224-4455121ee9b0",
    "_uuid": "d629ff2d2480ee46fbb7e2d37f6b5fab8052498a",
    "execution": {
     "iopub.execute_input": "2020-11-05T08:44:22.954935Z",
     "iopub.status.busy": "2020-11-05T08:44:22.954123Z",
     "iopub.status.idle": "2020-11-05T08:44:22.957216Z",
     "shell.execute_reply": "2020-11-05T08:44:22.956701Z"
    },
    "papermill": {
     "duration": 0.020178,
     "end_time": "2020-11-05T08:44:22.957323",
     "exception": false,
     "start_time": "2020-11-05T08:44:22.937145",
     "status": "completed"
    },
    "tags": []
   },
   "outputs": [],
   "source": [
    "# Importing all libraries required in this notebook\n",
    "import pandas as pd\n",
    "import numpy as np  \n",
    "import matplotlib.pyplot as plt  \n",
    "%matplotlib inline"
   ]
  },
  {
   "cell_type": "code",
   "execution_count": 2,
   "metadata": {
    "execution": {
     "iopub.execute_input": "2020-11-05T08:44:22.988138Z",
     "iopub.status.busy": "2020-11-05T08:44:22.987238Z",
     "iopub.status.idle": "2020-11-05T08:44:23.068067Z",
     "shell.execute_reply": "2020-11-05T08:44:23.067561Z"
    },
    "papermill": {
     "duration": 0.099738,
     "end_time": "2020-11-05T08:44:23.068179",
     "exception": false,
     "start_time": "2020-11-05T08:44:22.968441",
     "status": "completed"
    },
    "tags": []
   },
   "outputs": [
    {
     "name": "stdout",
     "output_type": "stream",
     "text": [
      "Data imported successfully\n"
     ]
    },
    {
     "data": {
      "text/html": [
       "<div>\n",
       "<style scoped>\n",
       "    .dataframe tbody tr th:only-of-type {\n",
       "        vertical-align: middle;\n",
       "    }\n",
       "\n",
       "    .dataframe tbody tr th {\n",
       "        vertical-align: top;\n",
       "    }\n",
       "\n",
       "    .dataframe thead th {\n",
       "        text-align: right;\n",
       "    }\n",
       "</style>\n",
       "<table border=\"1\" class=\"dataframe\">\n",
       "  <thead>\n",
       "    <tr style=\"text-align: right;\">\n",
       "      <th></th>\n",
       "      <th>Hours</th>\n",
       "      <th>Scores</th>\n",
       "    </tr>\n",
       "  </thead>\n",
       "  <tbody>\n",
       "    <tr>\n",
       "      <th>0</th>\n",
       "      <td>2.5</td>\n",
       "      <td>21</td>\n",
       "    </tr>\n",
       "    <tr>\n",
       "      <th>1</th>\n",
       "      <td>5.1</td>\n",
       "      <td>47</td>\n",
       "    </tr>\n",
       "    <tr>\n",
       "      <th>2</th>\n",
       "      <td>3.2</td>\n",
       "      <td>27</td>\n",
       "    </tr>\n",
       "    <tr>\n",
       "      <th>3</th>\n",
       "      <td>8.5</td>\n",
       "      <td>75</td>\n",
       "    </tr>\n",
       "    <tr>\n",
       "      <th>4</th>\n",
       "      <td>3.5</td>\n",
       "      <td>30</td>\n",
       "    </tr>\n",
       "    <tr>\n",
       "      <th>5</th>\n",
       "      <td>1.5</td>\n",
       "      <td>20</td>\n",
       "    </tr>\n",
       "    <tr>\n",
       "      <th>6</th>\n",
       "      <td>9.2</td>\n",
       "      <td>88</td>\n",
       "    </tr>\n",
       "    <tr>\n",
       "      <th>7</th>\n",
       "      <td>5.5</td>\n",
       "      <td>60</td>\n",
       "    </tr>\n",
       "    <tr>\n",
       "      <th>8</th>\n",
       "      <td>8.3</td>\n",
       "      <td>81</td>\n",
       "    </tr>\n",
       "    <tr>\n",
       "      <th>9</th>\n",
       "      <td>2.7</td>\n",
       "      <td>25</td>\n",
       "    </tr>\n",
       "  </tbody>\n",
       "</table>\n",
       "</div>"
      ],
      "text/plain": [
       "   Hours  Scores\n",
       "0    2.5      21\n",
       "1    5.1      47\n",
       "2    3.2      27\n",
       "3    8.5      75\n",
       "4    3.5      30\n",
       "5    1.5      20\n",
       "6    9.2      88\n",
       "7    5.5      60\n",
       "8    8.3      81\n",
       "9    2.7      25"
      ]
     },
     "execution_count": 2,
     "metadata": {},
     "output_type": "execute_result"
    }
   ],
   "source": [
    "# Reading data from remote link\n",
    "url = \"../input/studentdata/student_scores - student_scores.csv\"\n",
    "s_data = pd.read_csv(url)\n",
    "print(\"Data imported successfully\")\n",
    "\n",
    "s_data.head(10)"
   ]
  },
  {
   "cell_type": "code",
   "execution_count": 3,
   "metadata": {
    "execution": {
     "iopub.execute_input": "2020-11-05T08:44:23.096303Z",
     "iopub.status.busy": "2020-11-05T08:44:23.095616Z",
     "iopub.status.idle": "2020-11-05T08:44:23.099401Z",
     "shell.execute_reply": "2020-11-05T08:44:23.098895Z"
    },
    "papermill": {
     "duration": 0.01945,
     "end_time": "2020-11-05T08:44:23.099511",
     "exception": false,
     "start_time": "2020-11-05T08:44:23.080061",
     "status": "completed"
    },
    "tags": []
   },
   "outputs": [
    {
     "data": {
      "text/plain": [
       "(25, 2)"
      ]
     },
     "execution_count": 3,
     "metadata": {},
     "output_type": "execute_result"
    }
   ],
   "source": [
    "s_data.shape\n"
   ]
  },
  {
   "cell_type": "markdown",
   "metadata": {
    "papermill": {
     "duration": 0.012063,
     "end_time": "2020-11-05T08:44:23.123400",
     "exception": false,
     "start_time": "2020-11-05T08:44:23.111337",
     "status": "completed"
    },
    "tags": []
   },
   "source": [
    "**Let's plot our data points on 2-D graph to eyeball our dataset and see if we can manually find any relationship between the data. We can create the plot with the following script:**"
   ]
  },
  {
   "cell_type": "code",
   "execution_count": 4,
   "metadata": {
    "execution": {
     "iopub.execute_input": "2020-11-05T08:44:23.153302Z",
     "iopub.status.busy": "2020-11-05T08:44:23.152672Z",
     "iopub.status.idle": "2020-11-05T08:44:23.394529Z",
     "shell.execute_reply": "2020-11-05T08:44:23.393680Z"
    },
    "papermill": {
     "duration": 0.259239,
     "end_time": "2020-11-05T08:44:23.394702",
     "exception": false,
     "start_time": "2020-11-05T08:44:23.135463",
     "status": "completed"
    },
    "tags": []
   },
   "outputs": [
    {
     "data": {
      "image/png": "[encoded data removed]",
      "text/plain": [
       "<Figure size 432x288 with 1 Axes>"
      ]
     },
     "metadata": {
      "needs_background": "light"
     },
     "output_type": "display_data"
    }
   ],
   "source": [
    "# Plotting the distribution of scores\n",
    "s_data.plot(x='Hours', y='Scores', style='o')  \n",
    "plt.title('Hours vs Percentage',size='20')  \n",
    "plt.xlabel('Hours Studied')  \n",
    "plt.ylabel('Percentage Score')  \n",
    "plt.show()"
   ]
  },
  {
   "cell_type": "markdown",
   "metadata": {
    "papermill": {
     "duration": 0.01996,
     "end_time": "2020-11-05T08:44:23.441610",
     "exception": false,
     "start_time": "2020-11-05T08:44:23.421650",
     "status": "completed"
    },
    "tags": []
   },
   "source": [
    "**From the graph above, we can clearly see that there is a positive linear relation between the number of hours studied and percentage of score.**"
   ]
  },
  {
   "cell_type": "markdown",
   "metadata": {
    "papermill": {
     "duration": 0.017118,
     "end_time": "2020-11-05T08:44:23.479091",
     "exception": false,
     "start_time": "2020-11-05T08:44:23.461973",
     "status": "completed"
    },
    "tags": []
   },
   "source": [
    "# 2.Preparing the data\n",
    "\n",
    "**The next step is to divide the data into \"attributes\" (inputs) and \"labels\" (outputs).**"
   ]
  },
  {
   "cell_type": "code",
   "execution_count": 5,
   "metadata": {
    "execution": {
     "iopub.execute_input": "2020-11-05T08:44:23.524231Z",
     "iopub.status.busy": "2020-11-05T08:44:23.523467Z",
     "iopub.status.idle": "2020-11-05T08:44:23.526853Z",
     "shell.execute_reply": "2020-11-05T08:44:23.526260Z"
    },
    "papermill": {
     "duration": 0.030922,
     "end_time": "2020-11-05T08:44:23.526958",
     "exception": false,
     "start_time": "2020-11-05T08:44:23.496036",
     "status": "completed"
    },
    "tags": []
   },
   "outputs": [],
   "source": [
    "X = s_data.iloc[:, :-1].values  \n",
    "y = s_data.iloc[:, 1].values  "
   ]
  },
  {
   "cell_type": "markdown",
   "metadata": {
    "papermill": {
     "duration": 0.012849,
     "end_time": "2020-11-05T08:44:23.552615",
     "exception": false,
     "start_time": "2020-11-05T08:44:23.539766",
     "status": "completed"
    },
    "tags": []
   },
   "source": [
    "**Now that we have our attributes and labels, the next step is to split this data into training and test sets. We'll do this by using Scikit-Learn's built-in train_test_split() method:**"
   ]
  },
  {
   "cell_type": "code",
   "execution_count": 6,
   "metadata": {
    "execution": {
     "iopub.execute_input": "2020-11-05T08:44:23.583250Z",
     "iopub.status.busy": "2020-11-05T08:44:23.582576Z",
     "iopub.status.idle": "2020-11-05T08:44:24.425243Z",
     "shell.execute_reply": "2020-11-05T08:44:24.424573Z"
    },
    "papermill": {
     "duration": 0.859856,
     "end_time": "2020-11-05T08:44:24.425363",
     "exception": false,
     "start_time": "2020-11-05T08:44:23.565507",
     "status": "completed"
    },
    "tags": []
   },
   "outputs": [],
   "source": [
    "from sklearn.model_selection import train_test_split  \n",
    "X_train, X_test, y_train, y_test = train_test_split(X, y,test_size=0.2, random_state=0) "
   ]
  },
  {
   "cell_type": "markdown",
   "metadata": {
    "papermill": {
     "duration": 0.012607,
     "end_time": "2020-11-05T08:44:24.451462",
     "exception": false,
     "start_time": "2020-11-05T08:44:24.438855",
     "status": "completed"
    },
    "tags": []
   },
   "source": [
    "# 3.Training the Algorithm\n",
    "**We have split our data into training and testing sets, and now is finally the time to train our algorithm.**"
   ]
  },
  {
   "cell_type": "code",
   "execution_count": 7,
   "metadata": {
    "execution": {
     "iopub.execute_input": "2020-11-05T08:44:24.482671Z",
     "iopub.status.busy": "2020-11-05T08:44:24.481988Z",
     "iopub.status.idle": "2020-11-05T08:44:24.584754Z",
     "shell.execute_reply": "2020-11-05T08:44:24.585269Z"
    },
    "papermill": {
     "duration": 0.121201,
     "end_time": "2020-11-05T08:44:24.585435",
     "exception": false,
     "start_time": "2020-11-05T08:44:24.464234",
     "status": "completed"
    },
    "tags": []
   },
   "outputs": [
    {
     "name": "stdout",
     "output_type": "stream",
     "text": [
      "Training complete.\n"
     ]
    }
   ],
   "source": [
    "from sklearn.linear_model import LinearRegression  \n",
    "regressor = LinearRegression()  \n",
    "regressor.fit(X_train, y_train) \n",
    "\n",
    "print(\"Training complete.\")"
   ]
  },
  {
   "cell_type": "code",
   "execution_count": 8,
   "metadata": {
    "execution": {
     "iopub.execute_input": "2020-11-05T08:44:24.623523Z",
     "iopub.status.busy": "2020-11-05T08:44:24.622248Z",
     "iopub.status.idle": "2020-11-05T08:44:24.757265Z",
     "shell.execute_reply": "2020-11-05T08:44:24.756733Z"
    },
    "papermill": {
     "duration": 0.158492,
     "end_time": "2020-11-05T08:44:24.757390",
     "exception": false,
     "start_time": "2020-11-05T08:44:24.598898",
     "status": "completed"
    },
    "tags": []
   },
   "outputs": [
    {
     "data": {
      "image/png": "[encoded data removed]",
      "text/plain": [
       "<Figure size 432x288 with 1 Axes>"
      ]
     },
     "metadata": {
      "needs_background": "light"
     },
     "output_type": "display_data"
    }
   ],
   "source": [
    "# Plotting the regression line\n",
    "line = regressor.coef_*X+regressor.intercept_\n",
    "\n",
    "# Plotting for the test data\n",
    "plt.scatter(X, y)\n",
    "plt.plot(X, line);\n",
    "plt.show()"
   ]
  },
  {
   "cell_type": "markdown",
   "metadata": {
    "papermill": {
     "duration": 0.014095,
     "end_time": "2020-11-05T08:44:24.785973",
     "exception": false,
     "start_time": "2020-11-05T08:44:24.771878",
     "status": "completed"
    },
    "tags": []
   },
   "source": [
    "# 4.Making Predictions\n",
    "**Now that we have trained our algorithm, it's time to make some predictions.**"
   ]
  },
  {
   "cell_type": "code",
   "execution_count": 9,
   "metadata": {
    "execution": {
     "iopub.execute_input": "2020-11-05T08:44:24.820231Z",
     "iopub.status.busy": "2020-11-05T08:44:24.819432Z",
     "iopub.status.idle": "2020-11-05T08:44:24.822857Z",
     "shell.execute_reply": "2020-11-05T08:44:24.822250Z"
    },
    "papermill": {
     "duration": 0.022662,
     "end_time": "2020-11-05T08:44:24.822959",
     "exception": false,
     "start_time": "2020-11-05T08:44:24.800297",
     "status": "completed"
    },
    "tags": []
   },
   "outputs": [
    {
     "name": "stdout",
     "output_type": "stream",
     "text": [
      "[[1.5]\n",
      " [3.2]\n",
      " [7.4]\n",
      " [2.5]\n",
      " [5.9]]\n"
     ]
    }
   ],
   "source": [
    "print(X_test) # Testing data - In Hours\n",
    "y_pred = regressor.predict(X_test) # Predicting the scores"
   ]
  },
  {
   "cell_type": "code",
   "execution_count": 10,
   "metadata": {
    "execution": {
     "iopub.execute_input": "2020-11-05T08:44:24.860827Z",
     "iopub.status.busy": "2020-11-05T08:44:24.860076Z",
     "iopub.status.idle": "2020-11-05T08:44:24.863515Z",
     "shell.execute_reply": "2020-11-05T08:44:24.863941Z"
    },
    "papermill": {
     "duration": 0.026807,
     "end_time": "2020-11-05T08:44:24.864068",
     "exception": false,
     "start_time": "2020-11-05T08:44:24.837261",
     "status": "completed"
    },
    "tags": []
   },
   "outputs": [
    {
     "data": {
      "text/html": [
       "<div>\n",
       "<style scoped>\n",
       "    .dataframe tbody tr th:only-of-type {\n",
       "        vertical-align: middle;\n",
       "    }\n",
       "\n",
       "    .dataframe tbody tr th {\n",
       "        vertical-align: top;\n",
       "    }\n",
       "\n",
       "    .dataframe thead th {\n",
       "        text-align: right;\n",
       "    }\n",
       "</style>\n",
       "<table border=\"1\" class=\"dataframe\">\n",
       "  <thead>\n",
       "    <tr style=\"text-align: right;\">\n",
       "      <th></th>\n",
       "      <th>Actual</th>\n",
       "      <th>Predicted</th>\n",
       "    </tr>\n",
       "  </thead>\n",
       "  <tbody>\n",
       "    <tr>\n",
       "      <th>0</th>\n",
       "      <td>20</td>\n",
       "      <td>16.884145</td>\n",
       "    </tr>\n",
       "    <tr>\n",
       "      <th>1</th>\n",
       "      <td>27</td>\n",
       "      <td>33.732261</td>\n",
       "    </tr>\n",
       "    <tr>\n",
       "      <th>2</th>\n",
       "      <td>69</td>\n",
       "      <td>75.357018</td>\n",
       "    </tr>\n",
       "    <tr>\n",
       "      <th>3</th>\n",
       "      <td>30</td>\n",
       "      <td>26.794801</td>\n",
       "    </tr>\n",
       "    <tr>\n",
       "      <th>4</th>\n",
       "      <td>62</td>\n",
       "      <td>60.491033</td>\n",
       "    </tr>\n",
       "  </tbody>\n",
       "</table>\n",
       "</div>"
      ],
      "text/plain": [
       "   Actual  Predicted\n",
       "0      20  16.884145\n",
       "1      27  33.732261\n",
       "2      69  75.357018\n",
       "3      30  26.794801\n",
       "4      62  60.491033"
      ]
     },
     "execution_count": 10,
     "metadata": {},
     "output_type": "execute_result"
    }
   ],
   "source": [
    "# Comparing Actual vs Predicted\n",
    "df = pd.DataFrame({'Actual': y_test, 'Predicted': y_pred})  \n",
    "df "
   ]
  },
  {
   "cell_type": "code",
   "execution_count": 11,
   "metadata": {
    "execution": {
     "iopub.execute_input": "2020-11-05T08:44:24.900142Z",
     "iopub.status.busy": "2020-11-05T08:44:24.899456Z",
     "iopub.status.idle": "2020-11-05T08:44:24.903346Z",
     "shell.execute_reply": "2020-11-05T08:44:24.902588Z"
    },
    "papermill": {
     "duration": 0.024475,
     "end_time": "2020-11-05T08:44:24.903507",
     "exception": false,
     "start_time": "2020-11-05T08:44:24.879032",
     "status": "completed"
    },
    "tags": []
   },
   "outputs": [
    {
     "name": "stdout",
     "output_type": "stream",
     "text": [
      "No of Hours = [[9.25]]\n",
      "Predicted Score = 93.69173248737538\n"
     ]
    }
   ],
   "source": [
    "# You can also test with your own data\n",
    "hours = [[9.25]]\n",
    "own_pred = regressor.predict(hours)\n",
    "print(\"No of Hours = {}\".format(hours))\n",
    "print(\"Predicted Score = {}\".format(own_pred[0]))"
   ]
  },
  {
   "cell_type": "markdown",
   "metadata": {
    "papermill": {
     "duration": 0.015321,
     "end_time": "2020-11-05T08:44:24.935126",
     "exception": false,
     "start_time": "2020-11-05T08:44:24.919805",
     "status": "completed"
    },
    "tags": []
   },
   "source": [
    "# 5.Evaluating the model\n",
    "\n",
    "The final step is to evaluate the performance of algorithm. This step is particularly important to compare how well different algorithms perform on a particular dataset. For simplicity here, we have chosen the mean square error. There are many such metrics."
   ]
  },
  {
   "cell_type": "code",
   "execution_count": 12,
   "metadata": {
    "execution": {
     "iopub.execute_input": "2020-11-05T08:44:24.972161Z",
     "iopub.status.busy": "2020-11-05T08:44:24.971168Z",
     "iopub.status.idle": "2020-11-05T08:44:24.974742Z",
     "shell.execute_reply": "2020-11-05T08:44:24.974129Z"
    },
    "papermill": {
     "duration": 0.024402,
     "end_time": "2020-11-05T08:44:24.974856",
     "exception": false,
     "start_time": "2020-11-05T08:44:24.950454",
     "status": "completed"
    },
    "tags": []
   },
   "outputs": [
    {
     "name": "stdout",
     "output_type": "stream",
     "text": [
      "Mean Absolute Error: 4.183859899002975\n"
     ]
    }
   ],
   "source": [
    "from sklearn import metrics  \n",
    "print('Mean Absolute Error:', \n",
    "      metrics.mean_absolute_error(y_test, y_pred)) "
   ]
  }
 ],
 "metadata": {
  "kernelspec": {
   "display_name": "Python 3",
   "language": "python",
   "name": "python3"
  },
  "language_info": {
   "codemirror_mode": {
    "name": "ipython",
    "version": 3
   },
   "file_extension": ".py",
   "mimetype": "text/x-python",
   "name": "python",
   "nbconvert_exporter": "python",
   "pygments_lexer": "ipython3",
   "version": "3.7.6"
  },
  "papermill": {
   "duration": 6.071922,
   "end_time": "2020-11-05T08:44:25.097013",
   "environment_variables": {},
   "exception": null,
   "input_path": "__notebook__.ipynb",
   "output_path": "__notebook__.ipynb",
   "parameters": {},
   "start_time": "2020-11-05T08:44:19.025091",
   "version": "2.1.0"
  }
 },
 "nbformat": 4,
 "nbformat_minor": 4
}
